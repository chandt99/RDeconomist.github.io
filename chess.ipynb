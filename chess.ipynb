{
  "nbformat": 4,
  "nbformat_minor": 0,
  "metadata": {
    "colab": {
      "provenance": [],
      "authorship_tag": "ABX9TyOyIJLQrzd7H1UXCMxNsHxG",
      "include_colab_link": true
    },
    "kernelspec": {
      "name": "python3",
      "display_name": "Python 3"
    },
    "language_info": {
      "name": "python"
    }
  },
  "cells": [
    {
      "cell_type": "markdown",
      "metadata": {
        "id": "view-in-github",
        "colab_type": "text"
      },
      "source": [
        "<a href=\"https://colab.research.google.com/github/chandt99/RDeconomist.github.io/blob/main/chess.ipynb\" target=\"_parent\"><img src=\"https://colab.research.google.com/assets/colab-badge.svg\" alt=\"Open In Colab\"/></a>"
      ]
    },
    {
      "cell_type": "code",
      "source": [
        "import pandas as pd"
      ],
      "metadata": {
        "id": "Wudlru19tvLK"
      },
      "execution_count": 2,
      "outputs": []
    },
    {
      "cell_type": "code",
      "source": [
        "table_list=pd.read_html('/content/chess_table.html')"
      ],
      "metadata": {
        "id": "HVtpqdXTtztp"
      },
      "execution_count": 4,
      "outputs": []
    },
    {
      "cell_type": "code",
      "source": [
        "table_list[0].info()"
      ],
      "metadata": {
        "colab": {
          "base_uri": "https://localhost:8080/"
        },
        "id": "hKec4lg-feJV",
        "outputId": "debdf08f-bed6-4d81-b528-47b5d4bc130e"
      },
      "execution_count": 7,
      "outputs": [
        {
          "output_type": "stream",
          "name": "stdout",
          "text": [
            "<class 'pandas.core.frame.DataFrame'>\n",
            "RangeIndex: 102 entries, 0 to 101\n",
            "Data columns (total 7 columns):\n",
            " #   Column  Non-Null Count  Dtype  \n",
            "---  ------  --------------  -----  \n",
            " 0   #       102 non-null    int64  \n",
            " 1   Name    102 non-null    object \n",
            " 2   Fed     102 non-null    object \n",
            " 3   Rating  102 non-null    int64  \n",
            " 4   +-      0 non-null      float64\n",
            " 5   B-Year  102 non-null    int64  \n",
            " 6   Avg12M  101 non-null    object \n",
            "dtypes: float64(1), int64(3), object(3)\n",
            "memory usage: 5.7+ KB\n"
          ]
        }
      ]
    },
    {
      "cell_type": "code",
      "source": [
        "table_list[0]['Avg12M'].str.split(' ').str[0].astype(float)"
      ],
      "metadata": {
        "colab": {
          "base_uri": "https://localhost:8080/"
        },
        "id": "Lr6HckAMg3c-",
        "outputId": "83b7af4a-cf85-4902-ddae-d05a1cc00fa2"
      },
      "execution_count": 14,
      "outputs": [
        {
          "output_type": "execute_result",
          "data": {
            "text/plain": [
              "0      2862.0\n",
              "1      2803.0\n",
              "2      2778.0\n",
              "3      2793.0\n",
              "4      2773.0\n",
              "        ...  \n",
              "97     2652.0\n",
              "98     2644.0\n",
              "99     2630.0\n",
              "100    2635.0\n",
              "101    2656.0\n",
              "Name: Avg12M, Length: 102, dtype: float64"
            ]
          },
          "metadata": {},
          "execution_count": 14
        }
      ]
    },
    {
      "cell_type": "code",
      "source": [
        "chess_df=table_list[0]"
      ],
      "metadata": {
        "id": "FFSkWADPh5kP"
      },
      "execution_count": 15,
      "outputs": []
    },
    {
      "cell_type": "code",
      "source": [
        "chess_df['Rating last year']=chess_df['Avg12M'].str.split(' ').str[0].astype(float)"
      ],
      "metadata": {
        "id": "TQ-hPVoAh9IB"
      },
      "execution_count": 17,
      "outputs": []
    },
    {
      "cell_type": "code",
      "source": [
        "chess_df"
      ],
      "metadata": {
        "colab": {
          "base_uri": "https://localhost:8080/",
          "height": 424
        },
        "id": "A52AGoHciPyB",
        "outputId": "930f5c2b-2ed7-4d0e-a04d-e21a4562e841"
      },
      "execution_count": 18,
      "outputs": [
        {
          "output_type": "execute_result",
          "data": {
            "text/plain": [
              "       #                  Name  Fed  Rating  +-  B-Year      Avg12M  \\\n",
              "0      1       Carlsen, Magnus  NOR    2856 NaN    1990    2862 (1)   \n",
              "1      2           Ding, Liren  CHN    2811 NaN    1992    2803 (2)   \n",
              "2      3   Nepomniachtchi, Ian  RUS    2793 NaN    1990    2778 (5)   \n",
              "3      4     Firouzja, Alireza  FRA    2785 NaN    2003    2793 (3)   \n",
              "4      5            So, Wesley  USA    2774 NaN    1993    2773 (7)   \n",
              "..   ...                   ...  ...     ...  ..     ...         ...   \n",
              "97    98    Bluebaum, Matthias  GER    2647 NaN    1997   2652 (91)   \n",
              "98    99       Bacrot, Etienne  FRA    2646 NaN    1983  2644 (105)   \n",
              "99   100  Donchenko, Alexander  GER    2646 NaN    1998  2630 (130)   \n",
              "100  101         Abasov, Nijat  AZE    2646 NaN    1995  2635 (120)   \n",
              "101  102         Mamedov, Rauf  AZE    2646 NaN    1988   2656 (86)   \n",
              "\n",
              "     Rating last year  \n",
              "0              2862.0  \n",
              "1              2803.0  \n",
              "2              2778.0  \n",
              "3              2793.0  \n",
              "4              2773.0  \n",
              "..                ...  \n",
              "97             2652.0  \n",
              "98             2644.0  \n",
              "99             2630.0  \n",
              "100            2635.0  \n",
              "101            2656.0  \n",
              "\n",
              "[102 rows x 8 columns]"
            ],
            "text/html": [
              "\n",
              "  <div id=\"df-5f951333-04e1-47ba-9552-96f3d513e1d9\">\n",
              "    <div class=\"colab-df-container\">\n",
              "      <div>\n",
              "<style scoped>\n",
              "    .dataframe tbody tr th:only-of-type {\n",
              "        vertical-align: middle;\n",
              "    }\n",
              "\n",
              "    .dataframe tbody tr th {\n",
              "        vertical-align: top;\n",
              "    }\n",
              "\n",
              "    .dataframe thead th {\n",
              "        text-align: right;\n",
              "    }\n",
              "</style>\n",
              "<table border=\"1\" class=\"dataframe\">\n",
              "  <thead>\n",
              "    <tr style=\"text-align: right;\">\n",
              "      <th></th>\n",
              "      <th>#</th>\n",
              "      <th>Name</th>\n",
              "      <th>Fed</th>\n",
              "      <th>Rating</th>\n",
              "      <th>+-</th>\n",
              "      <th>B-Year</th>\n",
              "      <th>Avg12M</th>\n",
              "      <th>Rating last year</th>\n",
              "    </tr>\n",
              "  </thead>\n",
              "  <tbody>\n",
              "    <tr>\n",
              "      <th>0</th>\n",
              "      <td>1</td>\n",
              "      <td>Carlsen, Magnus</td>\n",
              "      <td>NOR</td>\n",
              "      <td>2856</td>\n",
              "      <td>NaN</td>\n",
              "      <td>1990</td>\n",
              "      <td>2862 (1)</td>\n",
              "      <td>2862.0</td>\n",
              "    </tr>\n",
              "    <tr>\n",
              "      <th>1</th>\n",
              "      <td>2</td>\n",
              "      <td>Ding, Liren</td>\n",
              "      <td>CHN</td>\n",
              "      <td>2811</td>\n",
              "      <td>NaN</td>\n",
              "      <td>1992</td>\n",
              "      <td>2803 (2)</td>\n",
              "      <td>2803.0</td>\n",
              "    </tr>\n",
              "    <tr>\n",
              "      <th>2</th>\n",
              "      <td>3</td>\n",
              "      <td>Nepomniachtchi, Ian</td>\n",
              "      <td>RUS</td>\n",
              "      <td>2793</td>\n",
              "      <td>NaN</td>\n",
              "      <td>1990</td>\n",
              "      <td>2778 (5)</td>\n",
              "      <td>2778.0</td>\n",
              "    </tr>\n",
              "    <tr>\n",
              "      <th>3</th>\n",
              "      <td>4</td>\n",
              "      <td>Firouzja, Alireza</td>\n",
              "      <td>FRA</td>\n",
              "      <td>2785</td>\n",
              "      <td>NaN</td>\n",
              "      <td>2003</td>\n",
              "      <td>2793 (3)</td>\n",
              "      <td>2793.0</td>\n",
              "    </tr>\n",
              "    <tr>\n",
              "      <th>4</th>\n",
              "      <td>5</td>\n",
              "      <td>So, Wesley</td>\n",
              "      <td>USA</td>\n",
              "      <td>2774</td>\n",
              "      <td>NaN</td>\n",
              "      <td>1993</td>\n",
              "      <td>2773 (7)</td>\n",
              "      <td>2773.0</td>\n",
              "    </tr>\n",
              "    <tr>\n",
              "      <th>...</th>\n",
              "      <td>...</td>\n",
              "      <td>...</td>\n",
              "      <td>...</td>\n",
              "      <td>...</td>\n",
              "      <td>...</td>\n",
              "      <td>...</td>\n",
              "      <td>...</td>\n",
              "      <td>...</td>\n",
              "    </tr>\n",
              "    <tr>\n",
              "      <th>97</th>\n",
              "      <td>98</td>\n",
              "      <td>Bluebaum, Matthias</td>\n",
              "      <td>GER</td>\n",
              "      <td>2647</td>\n",
              "      <td>NaN</td>\n",
              "      <td>1997</td>\n",
              "      <td>2652 (91)</td>\n",
              "      <td>2652.0</td>\n",
              "    </tr>\n",
              "    <tr>\n",
              "      <th>98</th>\n",
              "      <td>99</td>\n",
              "      <td>Bacrot, Etienne</td>\n",
              "      <td>FRA</td>\n",
              "      <td>2646</td>\n",
              "      <td>NaN</td>\n",
              "      <td>1983</td>\n",
              "      <td>2644 (105)</td>\n",
              "      <td>2644.0</td>\n",
              "    </tr>\n",
              "    <tr>\n",
              "      <th>99</th>\n",
              "      <td>100</td>\n",
              "      <td>Donchenko, Alexander</td>\n",
              "      <td>GER</td>\n",
              "      <td>2646</td>\n",
              "      <td>NaN</td>\n",
              "      <td>1998</td>\n",
              "      <td>2630 (130)</td>\n",
              "      <td>2630.0</td>\n",
              "    </tr>\n",
              "    <tr>\n",
              "      <th>100</th>\n",
              "      <td>101</td>\n",
              "      <td>Abasov, Nijat</td>\n",
              "      <td>AZE</td>\n",
              "      <td>2646</td>\n",
              "      <td>NaN</td>\n",
              "      <td>1995</td>\n",
              "      <td>2635 (120)</td>\n",
              "      <td>2635.0</td>\n",
              "    </tr>\n",
              "    <tr>\n",
              "      <th>101</th>\n",
              "      <td>102</td>\n",
              "      <td>Mamedov, Rauf</td>\n",
              "      <td>AZE</td>\n",
              "      <td>2646</td>\n",
              "      <td>NaN</td>\n",
              "      <td>1988</td>\n",
              "      <td>2656 (86)</td>\n",
              "      <td>2656.0</td>\n",
              "    </tr>\n",
              "  </tbody>\n",
              "</table>\n",
              "<p>102 rows × 8 columns</p>\n",
              "</div>\n",
              "      <button class=\"colab-df-convert\" onclick=\"convertToInteractive('df-5f951333-04e1-47ba-9552-96f3d513e1d9')\"\n",
              "              title=\"Convert this dataframe to an interactive table.\"\n",
              "              style=\"display:none;\">\n",
              "        \n",
              "  <svg xmlns=\"http://www.w3.org/2000/svg\" height=\"24px\"viewBox=\"0 0 24 24\"\n",
              "       width=\"24px\">\n",
              "    <path d=\"M0 0h24v24H0V0z\" fill=\"none\"/>\n",
              "    <path d=\"M18.56 5.44l.94 2.06.94-2.06 2.06-.94-2.06-.94-.94-2.06-.94 2.06-2.06.94zm-11 1L8.5 8.5l.94-2.06 2.06-.94-2.06-.94L8.5 2.5l-.94 2.06-2.06.94zm10 10l.94 2.06.94-2.06 2.06-.94-2.06-.94-.94-2.06-.94 2.06-2.06.94z\"/><path d=\"M17.41 7.96l-1.37-1.37c-.4-.4-.92-.59-1.43-.59-.52 0-1.04.2-1.43.59L10.3 9.45l-7.72 7.72c-.78.78-.78 2.05 0 2.83L4 21.41c.39.39.9.59 1.41.59.51 0 1.02-.2 1.41-.59l7.78-7.78 2.81-2.81c.8-.78.8-2.07 0-2.86zM5.41 20L4 18.59l7.72-7.72 1.47 1.35L5.41 20z\"/>\n",
              "  </svg>\n",
              "      </button>\n",
              "      \n",
              "  <style>\n",
              "    .colab-df-container {\n",
              "      display:flex;\n",
              "      flex-wrap:wrap;\n",
              "      gap: 12px;\n",
              "    }\n",
              "\n",
              "    .colab-df-convert {\n",
              "      background-color: #E8F0FE;\n",
              "      border: none;\n",
              "      border-radius: 50%;\n",
              "      cursor: pointer;\n",
              "      display: none;\n",
              "      fill: #1967D2;\n",
              "      height: 32px;\n",
              "      padding: 0 0 0 0;\n",
              "      width: 32px;\n",
              "    }\n",
              "\n",
              "    .colab-df-convert:hover {\n",
              "      background-color: #E2EBFA;\n",
              "      box-shadow: 0px 1px 2px rgba(60, 64, 67, 0.3), 0px 1px 3px 1px rgba(60, 64, 67, 0.15);\n",
              "      fill: #174EA6;\n",
              "    }\n",
              "\n",
              "    [theme=dark] .colab-df-convert {\n",
              "      background-color: #3B4455;\n",
              "      fill: #D2E3FC;\n",
              "    }\n",
              "\n",
              "    [theme=dark] .colab-df-convert:hover {\n",
              "      background-color: #434B5C;\n",
              "      box-shadow: 0px 1px 3px 1px rgba(0, 0, 0, 0.15);\n",
              "      filter: drop-shadow(0px 1px 2px rgba(0, 0, 0, 0.3));\n",
              "      fill: #FFFFFF;\n",
              "    }\n",
              "  </style>\n",
              "\n",
              "      <script>\n",
              "        const buttonEl =\n",
              "          document.querySelector('#df-5f951333-04e1-47ba-9552-96f3d513e1d9 button.colab-df-convert');\n",
              "        buttonEl.style.display =\n",
              "          google.colab.kernel.accessAllowed ? 'block' : 'none';\n",
              "\n",
              "        async function convertToInteractive(key) {\n",
              "          const element = document.querySelector('#df-5f951333-04e1-47ba-9552-96f3d513e1d9');\n",
              "          const dataTable =\n",
              "            await google.colab.kernel.invokeFunction('convertToInteractive',\n",
              "                                                     [key], {});\n",
              "          if (!dataTable) return;\n",
              "\n",
              "          const docLinkHtml = 'Like what you see? Visit the ' +\n",
              "            '<a target=\"_blank\" href=https://colab.research.google.com/notebooks/data_table.ipynb>data table notebook</a>'\n",
              "            + ' to learn more about interactive tables.';\n",
              "          element.innerHTML = '';\n",
              "          dataTable['output_type'] = 'display_data';\n",
              "          await google.colab.output.renderOutput(dataTable, element);\n",
              "          const docLink = document.createElement('div');\n",
              "          docLink.innerHTML = docLinkHtml;\n",
              "          element.appendChild(docLink);\n",
              "        }\n",
              "      </script>\n",
              "    </div>\n",
              "  </div>\n",
              "  "
            ]
          },
          "metadata": {},
          "execution_count": 18
        }
      ]
    }
  ]
}